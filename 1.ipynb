{
  "cells": [
    {
      "cell_type": "markdown",
      "metadata": {
        "id": "view-in-github",
        "colab_type": "text"
      },
      "source": [
        "<a href=\"https://colab.research.google.com/github/ElizabethNicole7576/SIS-420-PARCIALES/blob/main/1.ipynb\" target=\"_parent\"><img src=\"https://colab.research.google.com/assets/colab-badge.svg\" alt=\"Open In Colab\"/></a>"
      ]
    },
    {
      "cell_type": "code",
      "execution_count": null,
      "id": "cb917cb7",
      "metadata": {
        "id": "cb917cb7"
      },
      "outputs": [],
      "source": [
        "import random"
      ]
    },
    {
      "cell_type": "code",
      "execution_count": null,
      "id": "6b67be03",
      "metadata": {
        "id": "6b67be03"
      },
      "outputs": [],
      "source": [
        "def gotoxy(x,y):\n",
        "    print (\"%c[%d;%d*\" % (0x1B, y, x), end='')"
      ]
    },
    {
      "cell_type": "code",
      "execution_count": null,
      "id": "f43f486c",
      "metadata": {
        "id": "f43f486c"
      },
      "outputs": [],
      "source": [
        "def crear_mapa_laberinto(numero_filas, numero_columnas, numero_paredes, numero_espacios):\n",
        "# Se crea un mapa lleno de paredes\n",
        "    mapa_laberinto = []\n",
        "    numero_paredes_generadas = 0\n",
        "    for fila in range(0, numero_filas):\n",
        "        fila_mapa_laberinto = []\n",
        "        for columna in range(0, numero_columnas):\n",
        "#             if (random.randrange(2) == 1 and numero_paredes_generadas < numero_paredes):\n",
        "#                 fila_mapa_laberinto.append('#')\n",
        "#                 numero_paredes_generadas += 1\n",
        "#             else:\n",
        "#                 fila_mapa_laberinto.append(' ')\n",
        "            fila_mapa_laberinto.append('#')\n",
        "        mapa_laberinto.append(fila_mapa_laberinto)\n",
        "        \n",
        "#Se ubica aleatoriamente un punto de inicio y a partir de ese punto se llenan espacios\n",
        "    numero_espacios_generados = 0\n",
        "    fila_posicion_actual = random.randrange(numero_filas)\n",
        "    columna_posicion_actual = random.randrange(numero_columnas)\n",
        "    mapa_laberinto[fila_posicion_actual][columna_posicion_actual] = ' '\n",
        "    numero_espacios_generados += 1\n",
        "\n",
        "    while numero_espacios_generados < numero_espacios:\n",
        "        direccion = random.randrange(4)\n",
        "        if direccion == 0 and fila_posicion_actual > 0:\n",
        "            fila_posicion_actual -= 1\n",
        "        elif direccion == 1 and fila_posicion_actual < numero_filas - 1:\n",
        "            fila_posicion_actual += 1\n",
        "        elif direccion == 2 and columna_posicion_actual > 0:\n",
        "            columna_posicion_actual -= 1\n",
        "        else:\n",
        "            if columna_posicion_actual < numero_columnas - 1:\n",
        "                columna_posicion_actual += 1\n",
        "            \n",
        "        if mapa_laberinto[fila_posicion_actual][columna_posicion_actual] == '#':\n",
        "            mapa_laberinto[fila_posicion_actual][columna_posicion_actual] = ' '\n",
        "            numero_espacios_generados += 1\n",
        "            \n",
        "    return mapa_laberinto"
      ]
    },
    {
      "cell_type": "code",
      "execution_count": null,
      "id": "8f9cffaa",
      "metadata": {
        "colab": {
          "base_uri": "https://localhost:8080/"
        },
        "id": "8f9cffaa",
        "outputId": "786e60d9-8ab2-40b5-e26f-6d20e193a28e"
      },
      "outputs": [
        {
          "name": "stdout",
          "output_type": "stream",
          "text": [
            "Introduzca el número de filas del laberinto: 10\n",
            "Introduzca el número de columnas del laberinto: 10\n",
            "Introduzca el número de paredes del laberinto: 3\n"
          ]
        }
      ],
      "source": [
        "numero_filas = int(input('Introduzca el número de filas del laberinto: '))\n",
        "numero_columnas = int(input('Introduzca el número de columnas del laberinto: '))\n",
        "numero_paredes = int(input('Introduzca el número de paredes del laberinto: '))\n",
        "numero_espacios = numero_filas * numero_columnas - numero_paredes"
      ]
    },
    {
      "cell_type": "code",
      "execution_count": null,
      "id": "05147e6d",
      "metadata": {
        "colab": {
          "base_uri": "https://localhost:8080/"
        },
        "id": "05147e6d",
        "outputId": "acee6d2d-71b2-42ad-e4e3-33a2e60fabb8"
      },
      "outputs": [
        {
          "output_type": "stream",
          "name": "stdout",
          "text": [
            "\u001b[0;0*\u001b[1;0*\u001b[2;0*\u001b[3;0*\u001b[4;0*\u001b[5;0*\u001b[6;0*\u001b[7;0*\u001b[8;0*\u001b[9;0*\n",
            "\u001b[0;1*\u001b[1;1*\u001b[2;1*\u001b[3;1*\u001b[4;1*\u001b[5;1*\u001b[6;1*\u001b[7;1*\u001b[8;1*\u001b[9;1*\n",
            "\u001b[0;2*\u001b[1;2*\u001b[2;2*\u001b[3;2*\u001b[4;2*\u001b[5;2*\u001b[6;2*\u001b[7;2*\u001b[8;2*\u001b[9;2*\n",
            "\u001b[0;3*\u001b[1;3*\u001b[2;3*\u001b[3;3*\u001b[4;3*\u001b[5;3*\u001b[6;3*\u001b[7;3*\u001b[8;3*\u001b[9;3*\n",
            "\u001b[0;4*\u001b[1;4*\u001b[2;4*\u001b[3;4*\u001b[4;4*\u001b[5;4*\u001b[6;4*\u001b[7;4*\u001b[8;4*\u001b[9;4*\n",
            "\u001b[0;5*\u001b[1;5*\u001b[2;5*\u001b[3;5*\u001b[4;5*\u001b[5;5*\u001b[6;5*\u001b[7;5*\u001b[8;5*\u001b[9;5*\n",
            "\u001b[0;6*\u001b[1;6*\u001b[2;6*\u001b[3;6*\u001b[4;6*\u001b[5;6*\u001b[6;6*\u001b[7;6*\u001b[8;6*\u001b[9;6*\n",
            "\u001b[0;7*\u001b[1;7*\u001b[2;7*\u001b[3;7*\u001b[4;7*\u001b[5;7*\u001b[6;7*\u001b[7;7*\u001b[8;7*\u001b[9;7*\n",
            "\u001b[0;8*\u001b[1;8*\u001b[2;8*\u001b[3;8*\u001b[4;8*\u001b[5;8*\u001b[6;8*\u001b[7;8*\u001b[8;8*\u001b[9;8*\n",
            "\u001b[0;9*\u001b[1;9*\u001b[2;9*\u001b[3;9*\u001b[4;9*\u001b[5;9*\u001b[6;9*\u001b[7;9*\u001b[8;9*\u001b[9;9*\n"
          ]
        }
      ],
      "source": [
        "laberinto = crear_mapa_laberinto(numero_filas, numero_columnas, numero_paredes, numero_espacios)\n",
        "\n",
        "# for fila_mapa_laberinto in laberinto:\n",
        "#     print(fila_mapa_laberinto)\n",
        "    \n",
        "for f, fila in enumerate(laberinto):\n",
        "    for c, celda in enumerate(fila):\n",
        "        gotoxy(f, c)\n",
        "        print( end='')\n",
        "    print()"
      ]
    }
  ],
  "metadata": {
    "kernelspec": {
      "display_name": "Python 3 (ipykernel)",
      "language": "python",
      "name": "python3"
    },
    "language_info": {
      "codemirror_mode": {
        "name": "ipython",
        "version": 3
      },
      "file_extension": ".py",
      "mimetype": "text/x-python",
      "name": "python",
      "nbconvert_exporter": "python",
      "pygments_lexer": "ipython3",
      "version": "3.9.12"
    },
    "colab": {
      "provenance": [],
      "include_colab_link": true
    }
  },
  "nbformat": 4,
  "nbformat_minor": 5
}